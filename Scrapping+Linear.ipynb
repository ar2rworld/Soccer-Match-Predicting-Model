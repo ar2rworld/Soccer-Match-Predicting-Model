{
  "nbformat": 4,
  "nbformat_minor": 0,
  "metadata": {
    "colab": {
      "name": "Scrapping+Linear.ipynb",
      "provenance": [],
      "collapsed_sections": []
    },
    "kernelspec": {
      "name": "python3",
      "display_name": "Python 3"
    }
  },
  "cells": [
    {
      "cell_type": "markdown",
      "metadata": {
        "id": "Ypv_vy_ujTN2",
        "colab_type": "text"
      },
      "source": [
        "Artur Linnik github: [link text](https://github.com/ar2rworld)"
      ]
    },
    {
      "cell_type": "code",
      "metadata": {
        "id": "2RVi0zsQEhRU",
        "colab_type": "code",
        "colab": {}
      },
      "source": [
        "url = \"https://www.statbunker.com/competitions/LeagueTable?comp_id=648\"\n",
        "#url = \"https://www.statbunker.com/competitions/TopGoalScorers?comp_id=648&club_id=146\"\n",
        "from bs4 import BeautifulSoup\n",
        "import requests\n",
        "import numpy as np\n",
        "import pandas as pd"
      ],
      "execution_count": 0,
      "outputs": []
    },
    {
      "cell_type": "code",
      "metadata": {
        "id": "YtZZMfVEHnJ7",
        "colab_type": "code",
        "colab": {}
      },
      "source": [
        "page = requests.get(url)\n",
        "soup = BeautifulSoup(page.content, \"html.parser\")"
      ],
      "execution_count": 0,
      "outputs": []
    },
    {
      "cell_type": "code",
      "metadata": {
        "id": "c9ujUeGbT2TT",
        "colab_type": "code",
        "colab": {}
      },
      "source": [
        "class footballTeam():\n",
        "  def __init__(self, name=None, P=None, W=None, D= None, L = None, F=None, A=None, GD=None, Points=None, url=None, n= None, players = None):\n",
        "    self.name = name\n",
        "    self.P = P\n",
        "    self.W = W\n",
        "    self.D = D\n",
        "    self.L = L\n",
        "    self.F= F\n",
        "    self.A = A\n",
        "    self.GD = GD\n",
        "    self.Points = Points\n",
        "    self.url = url\n",
        "    self.n = n\n",
        "    self.players = players\n",
        "  def getDataInTensor(self, nn):\n",
        "    t_ar = []\n",
        "    for i in range(len(self.players)):\n",
        "      if(nn > -1):\n",
        "        tt = self.players[i]\n",
        "        t_ = [ tt.Goals, tt.FH, tt.SH, tt.FS, tt.LS, tt.H, tt.A ]\n",
        "        t_ar.append(t_)\n",
        "        nn-=1\n",
        "        for j in range(len(t_)):\n",
        "          if t_[j] == '-':\n",
        "            t_[j] = np.nan\n",
        "            #print(t_[j])\n",
        "    return pd.DataFrame(t_ar).fillna(0)\n",
        "#a = footballTeam(\"RM\", 43, D=123, players=)\n",
        "#tt_ = footballTeam.getDataInTensor(teams[1], 5)\n"
      ],
      "execution_count": 0,
      "outputs": []
    },
    {
      "cell_type": "code",
      "metadata": {
        "id": "1RLkYvmdhplJ",
        "colab_type": "code",
        "colab": {}
      },
      "source": [
        "class footballer():\n",
        "  def __init__(self, name=None, Goals=None, FH=None, SH=None, FS=None, LS=None, H=None, A= None):\n",
        "    self.name = name\n",
        "    self.Goals = Goals\n",
        "    self.FH = FH\n",
        "    self.SH = SH\n",
        "    self.FS = FS\n",
        "    self.LS = LS\n",
        "    self.H = H\n",
        "    self.A = A\n",
        "  def getStats():\n",
        "    pass"
      ],
      "execution_count": 0,
      "outputs": []
    },
    {
      "cell_type": "code",
      "metadata": {
        "id": "LGsGU0KrYTjL",
        "colab_type": "code",
        "colab": {}
      },
      "source": [
        "results = soup.find('tbody') # or class_ = \"even\")\n",
        "rows = results.find_all('tr')\n",
        "s_row = str(rows)\n",
        "s_rows = s_row.split('</tr>')\n",
        "for i in s_rows:\n",
        "  #print(i)\n",
        "  pass\n",
        "s_row = s_row[s_row.index('<tr'): s_row.index('</tr>')]"
      ],
      "execution_count": 0,
      "outputs": []
    },
    {
      "cell_type": "code",
      "metadata": {
        "id": "JSFutkGJKOOh",
        "colab_type": "code",
        "outputId": "86b6cd77-969f-422d-b32e-f794416aeda8",
        "colab": {
          "base_uri": "https://localhost:8080/",
          "height": 72
        }
      },
      "source": [
        "results = soup.find('tbody') # or class_ = \"even\")\n",
        "rows = results.find_all('tr')\n",
        "s_row = str(rows)\n",
        "s_rows = s_row.split('</tr>')\n",
        "teams = []\n",
        "n_of_errors = 0\n",
        "for row in s_rows:\n",
        "  t_row = str(row)\n",
        "  #print(row)\n",
        "  try:\n",
        "    t_name = t_row[t_row.index('<p>')+ 3:t_row.index('</p>')]\n",
        "    t_url = ('https://www.statbunker.com' + t_row[t_row.index('href=\"') + 6 :t_row.index( 'amp') ] + t_row[t_row.index('club_id=') : t_row.index( '\" title') ] )\n",
        "    t_n = t_row[t_row.index('<td class=\"mob\">') + 16: t_row.index('</td>')]\n",
        "    t_P = t_row[t_row.index('<td class') : t_row.index('</td>')]\n",
        "    stats = []\n",
        "    for i in t_row.split('/td>'):\n",
        "      #print(i)\n",
        "      if 'b\">' in i and 'button' not in i:\n",
        "        t_i = i[5 : ]\n",
        "        \n",
        "        #print(t_i)\n",
        "        #print(t_i.index('b\">') + 3 )\n",
        "        #print(t_i[t_i.index('b\">') + 3 :-1])\n",
        "        t_var_= t_i[t_i.index('b\">') + 3 :-1]\n",
        "        stats.append(t_var_)\n",
        "    #print(stats)  \n",
        "    t_team = footballTeam(name = t_name, P=int(stats[1]), W=int(stats[2]), D=int(stats[3]), L=int(stats[4]), F=int(stats[5]),A=int(stats[6]),GD=int(stats[7]),Points=int(stats[8]),url = t_url, n= t_n)\n",
        "    teams.append(t_team)\n",
        "  except:\n",
        "    print(\"Hi, I'm error\")\n",
        "    n_of_errors +=1\n",
        "\n",
        "\n",
        "#print(table_a_raw)\n",
        "print(\"errors \" , n_of_errors)\n",
        "print(teams[1].name)"
      ],
      "execution_count": 333,
      "outputs": [
        {
          "output_type": "stream",
          "text": [
            "Hi, I'm error\n",
            "errors  1\n",
            "Barcelona\n"
          ],
          "name": "stdout"
        }
      ]
    },
    {
      "cell_type": "code",
      "metadata": {
        "id": "rFFE_Qn45sh-",
        "colab_type": "code",
        "colab": {}
      },
      "source": [
        "def getFootballerStats(url):\n",
        "  page = requests.get(url)\n",
        "  soup = BeautifulSoup(page.content, \"html.parser\")\n",
        "  results = soup.find('tbody') # or class_ = \"even\")\n",
        "  rows = results.find_all('tr')\n",
        "  s_row = str(rows)\n",
        "  s_rows = s_row.split('</tr>')\n",
        "  s_row = s_row[s_row.index('<tr'): s_row.index('</tr>')]\n",
        "  footballers = []\n",
        "  n_of_errors = 0\n",
        "  for row in s_rows:\n",
        "    t_row = str(row)\n",
        "    try:\n",
        "      if(len(t_row) > 40):\n",
        "        t_name = t_row[t_row.index('img alt=\"')+ 9:t_row.index('\" src=\"/')]\n",
        "      stats = []\n",
        "      for i in t_row.split('/td>'):\n",
        "          if len(i) < 40 and len(i) > 5:\n",
        "            i = i[8:]\n",
        "            #print(i)\n",
        "            t_var= i[i.index('b\">') + 3 : i.index('<')]\n",
        "            #print(\"t_var :\" , t_var)\n",
        "            stats.append(t_var)\n",
        "\n",
        "      #print(stats)\n",
        "      if len(stats) == 7:\n",
        "        t_player = footballer(name = t_name, Goals = stats[0], FH = stats[1], SH = stats[2], FS = stats[3], LS = stats[4], H = stats[5], A = stats[6] )\n",
        "        footballers.append(t_player)\n",
        "    except ArithmeticError:\n",
        "      print(\"Hi, I'm error\")\n",
        "      n_of_errors +=1\n",
        "  return footballers\n",
        "  #print(table_a_raw)\n",
        "  print(\"errors \" , n_of_errors)\n",
        "def getIndexByNameOfTeam(name):\n",
        "  for i in range(len(teams)):\n",
        "    if name == teams[i].name:\n",
        "      return i"
      ],
      "execution_count": 0,
      "outputs": []
    },
    {
      "cell_type": "code",
      "metadata": {
        "id": "cRWHym7OrTYN",
        "colab_type": "code",
        "colab": {}
      },
      "source": [
        "#a = getFootballerStats(teams[0].url)\n",
        "for i in range(len(teams)):\n",
        "  teams[i].players = getFootballerStats(teams[i].url)"
      ],
      "execution_count": 0,
      "outputs": []
    },
    {
      "cell_type": "code",
      "metadata": {
        "id": "z5h4q6bKu7XA",
        "colab_type": "code",
        "outputId": "63417a3b-2624-47c6-e90d-153dfdfd4058",
        "colab": {
          "base_uri": "https://localhost:8080/",
          "height": 35
        }
      },
      "source": [
        "print(teams[1].name, teams[1].players[0].name, teams[1].players[0].Goals)"
      ],
      "execution_count": 336,
      "outputs": [
        {
          "output_type": "stream",
          "text": [
            "Barcelona Lionel Messi 18\n"
          ],
          "name": "stdout"
        }
      ]
    },
    {
      "cell_type": "code",
      "metadata": {
        "id": "0GxyK_q5fN_E",
        "colab_type": "code",
        "outputId": "7b18e8ed-7ee8-4ef6-f06a-b32d1675c489",
        "colab": {
          "base_uri": "https://localhost:8080/",
          "height": 35
        }
      },
      "source": [
        "print(teams[1].url)"
      ],
      "execution_count": 337,
      "outputs": [
        {
          "output_type": "stream",
          "text": [
            "https://www.statbunker.com/competitions/TopGoalScorers?comp_id=648&club_id=116\n"
          ],
          "name": "stdout"
        }
      ]
    },
    {
      "cell_type": "code",
      "metadata": {
        "id": "9lQCVDnrvXDl",
        "colab_type": "code",
        "outputId": "7fc56dde-d43a-4d8e-eea0-0d5bd64f3747",
        "colab": {
          "base_uri": "https://localhost:8080/",
          "height": 990
        }
      },
      "source": [
        "url = 'https://raw.githubusercontent.com/footballcsv/espana/master/2010s/2019-20/es.1.csv'\n",
        "df = pd.read_csv(url)\n",
        "df = df[[\"Team 1\" , \"FT\", \"Team 2\"]]\n",
        "df"
      ],
      "execution_count": 338,
      "outputs": [
        {
          "output_type": "execute_result",
          "data": {
            "text/html": [
              "<div>\n",
              "<style scoped>\n",
              "    .dataframe tbody tr th:only-of-type {\n",
              "        vertical-align: middle;\n",
              "    }\n",
              "\n",
              "    .dataframe tbody tr th {\n",
              "        vertical-align: top;\n",
              "    }\n",
              "\n",
              "    .dataframe thead th {\n",
              "        text-align: right;\n",
              "    }\n",
              "</style>\n",
              "<table border=\"1\" class=\"dataframe\">\n",
              "  <thead>\n",
              "    <tr style=\"text-align: right;\">\n",
              "      <th></th>\n",
              "      <th>Team 1</th>\n",
              "      <th>FT</th>\n",
              "      <th>Team 2</th>\n",
              "    </tr>\n",
              "  </thead>\n",
              "  <tbody>\n",
              "    <tr>\n",
              "      <th>0</th>\n",
              "      <td>Athletic Club Bilbao (1)</td>\n",
              "      <td>1-0</td>\n",
              "      <td>FC Barcelona (1)</td>\n",
              "    </tr>\n",
              "    <tr>\n",
              "      <th>1</th>\n",
              "      <td>RC Celta Vigo (1)</td>\n",
              "      <td>1-3</td>\n",
              "      <td>Real Madrid (1)</td>\n",
              "    </tr>\n",
              "    <tr>\n",
              "      <th>2</th>\n",
              "      <td>Valencia CF (1)</td>\n",
              "      <td>1-1</td>\n",
              "      <td>Real Sociedad (1)</td>\n",
              "    </tr>\n",
              "    <tr>\n",
              "      <th>3</th>\n",
              "      <td>RCD Mallorca (1)</td>\n",
              "      <td>2-1</td>\n",
              "      <td>SD Eibar (1)</td>\n",
              "    </tr>\n",
              "    <tr>\n",
              "      <th>4</th>\n",
              "      <td>CD Leganés (1)</td>\n",
              "      <td>0-1</td>\n",
              "      <td>CA Osasuna (1)</td>\n",
              "    </tr>\n",
              "    <tr>\n",
              "      <th>5</th>\n",
              "      <td>Villarreal CF (1)</td>\n",
              "      <td>4-4</td>\n",
              "      <td>Granada CF (1)</td>\n",
              "    </tr>\n",
              "    <tr>\n",
              "      <th>6</th>\n",
              "      <td>Deportivo Alavés (1)</td>\n",
              "      <td>1-0</td>\n",
              "      <td>Levante UD (1)</td>\n",
              "    </tr>\n",
              "    <tr>\n",
              "      <th>7</th>\n",
              "      <td>RCD Espanyol (1)</td>\n",
              "      <td>0-2</td>\n",
              "      <td>Sevilla FC (1)</td>\n",
              "    </tr>\n",
              "    <tr>\n",
              "      <th>8</th>\n",
              "      <td>Real Betis (1)</td>\n",
              "      <td>1-2</td>\n",
              "      <td>Real Valladolid CF (1)</td>\n",
              "    </tr>\n",
              "    <tr>\n",
              "      <th>9</th>\n",
              "      <td>Atlético Madrid (1)</td>\n",
              "      <td>1-0</td>\n",
              "      <td>Getafe CF (1)</td>\n",
              "    </tr>\n",
              "    <tr>\n",
              "      <th>10</th>\n",
              "      <td>Granada CF (2)</td>\n",
              "      <td>0-1</td>\n",
              "      <td>Sevilla FC (2)</td>\n",
              "    </tr>\n",
              "    <tr>\n",
              "      <th>11</th>\n",
              "      <td>Levante UD (2)</td>\n",
              "      <td>2-1</td>\n",
              "      <td>Villarreal CF (2)</td>\n",
              "    </tr>\n",
              "    <tr>\n",
              "      <th>12</th>\n",
              "      <td>CA Osasuna (2)</td>\n",
              "      <td>0-0</td>\n",
              "      <td>SD Eibar (2)</td>\n",
              "    </tr>\n",
              "    <tr>\n",
              "      <th>13</th>\n",
              "      <td>Real Madrid (2)</td>\n",
              "      <td>1-1</td>\n",
              "      <td>Real Valladolid CF (2)</td>\n",
              "    </tr>\n",
              "    <tr>\n",
              "      <th>14</th>\n",
              "      <td>RC Celta Vigo (2)</td>\n",
              "      <td>1-0</td>\n",
              "      <td>Valencia CF (2)</td>\n",
              "    </tr>\n",
              "    <tr>\n",
              "      <th>15</th>\n",
              "      <td>Getafe CF (2)</td>\n",
              "      <td>1-1</td>\n",
              "      <td>Athletic Club Bilbao (2)</td>\n",
              "    </tr>\n",
              "    <tr>\n",
              "      <th>16</th>\n",
              "      <td>Deportivo Alavés (2)</td>\n",
              "      <td>0-0</td>\n",
              "      <td>RCD Espanyol (2)</td>\n",
              "    </tr>\n",
              "    <tr>\n",
              "      <th>17</th>\n",
              "      <td>RCD Mallorca (2)</td>\n",
              "      <td>0-1</td>\n",
              "      <td>Real Sociedad (2)</td>\n",
              "    </tr>\n",
              "    <tr>\n",
              "      <th>18</th>\n",
              "      <td>CD Leganés (2)</td>\n",
              "      <td>0-1</td>\n",
              "      <td>Atlético Madrid (2)</td>\n",
              "    </tr>\n",
              "    <tr>\n",
              "      <th>19</th>\n",
              "      <td>FC Barcelona (2)</td>\n",
              "      <td>5-2</td>\n",
              "      <td>Real Betis (2)</td>\n",
              "    </tr>\n",
              "    <tr>\n",
              "      <th>20</th>\n",
              "      <td>Sevilla FC (3)</td>\n",
              "      <td>1-1</td>\n",
              "      <td>RC Celta Vigo (3)</td>\n",
              "    </tr>\n",
              "    <tr>\n",
              "      <th>21</th>\n",
              "      <td>Athletic Club Bilbao (3)</td>\n",
              "      <td>2-0</td>\n",
              "      <td>Real Sociedad (3)</td>\n",
              "    </tr>\n",
              "    <tr>\n",
              "      <th>22</th>\n",
              "      <td>CA Osasuna (3)</td>\n",
              "      <td>2-2</td>\n",
              "      <td>FC Barcelona (3)</td>\n",
              "    </tr>\n",
              "    <tr>\n",
              "      <th>23</th>\n",
              "      <td>Getafe CF (3)</td>\n",
              "      <td>1-1</td>\n",
              "      <td>Deportivo Alavés (3)</td>\n",
              "    </tr>\n",
              "    <tr>\n",
              "      <th>24</th>\n",
              "      <td>Levante UD (3)</td>\n",
              "      <td>2-0</td>\n",
              "      <td>Real Valladolid CF (3)</td>\n",
              "    </tr>\n",
              "    <tr>\n",
              "      <th>25</th>\n",
              "      <td>Real Betis (3)</td>\n",
              "      <td>2-1</td>\n",
              "      <td>CD Leganés (3)</td>\n",
              "    </tr>\n",
              "    <tr>\n",
              "      <th>26</th>\n",
              "      <td>Valencia CF (3)</td>\n",
              "      <td>2-0</td>\n",
              "      <td>RCD Mallorca (3)</td>\n",
              "    </tr>\n",
              "    <tr>\n",
              "      <th>27</th>\n",
              "      <td>Atlético Madrid (3)</td>\n",
              "      <td>3-2</td>\n",
              "      <td>SD Eibar (3)</td>\n",
              "    </tr>\n",
              "    <tr>\n",
              "      <th>28</th>\n",
              "      <td>RCD Espanyol (3)</td>\n",
              "      <td>0-3</td>\n",
              "      <td>Granada CF (3)</td>\n",
              "    </tr>\n",
              "    <tr>\n",
              "      <th>29</th>\n",
              "      <td>Villarreal CF (3)</td>\n",
              "      <td>2-2</td>\n",
              "      <td>Real Madrid (3)</td>\n",
              "    </tr>\n",
              "  </tbody>\n",
              "</table>\n",
              "</div>"
            ],
            "text/plain": [
              "                      Team 1   FT                    Team 2\n",
              "0   Athletic Club Bilbao (1)  1-0          FC Barcelona (1)\n",
              "1          RC Celta Vigo (1)  1-3           Real Madrid (1)\n",
              "2            Valencia CF (1)  1-1         Real Sociedad (1)\n",
              "3           RCD Mallorca (1)  2-1              SD Eibar (1)\n",
              "4             CD Leganés (1)  0-1            CA Osasuna (1)\n",
              "5          Villarreal CF (1)  4-4            Granada CF (1)\n",
              "6       Deportivo Alavés (1)  1-0            Levante UD (1)\n",
              "7           RCD Espanyol (1)  0-2            Sevilla FC (1)\n",
              "8             Real Betis (1)  1-2    Real Valladolid CF (1)\n",
              "9        Atlético Madrid (1)  1-0             Getafe CF (1)\n",
              "10            Granada CF (2)  0-1            Sevilla FC (2)\n",
              "11            Levante UD (2)  2-1         Villarreal CF (2)\n",
              "12            CA Osasuna (2)  0-0              SD Eibar (2)\n",
              "13           Real Madrid (2)  1-1    Real Valladolid CF (2)\n",
              "14         RC Celta Vigo (2)  1-0           Valencia CF (2)\n",
              "15             Getafe CF (2)  1-1  Athletic Club Bilbao (2)\n",
              "16      Deportivo Alavés (2)  0-0          RCD Espanyol (2)\n",
              "17          RCD Mallorca (2)  0-1         Real Sociedad (2)\n",
              "18            CD Leganés (2)  0-1       Atlético Madrid (2)\n",
              "19          FC Barcelona (2)  5-2            Real Betis (2)\n",
              "20            Sevilla FC (3)  1-1         RC Celta Vigo (3)\n",
              "21  Athletic Club Bilbao (3)  2-0         Real Sociedad (3)\n",
              "22            CA Osasuna (3)  2-2          FC Barcelona (3)\n",
              "23             Getafe CF (3)  1-1      Deportivo Alavés (3)\n",
              "24            Levante UD (3)  2-0    Real Valladolid CF (3)\n",
              "25            Real Betis (3)  2-1            CD Leganés (3)\n",
              "26           Valencia CF (3)  2-0          RCD Mallorca (3)\n",
              "27       Atlético Madrid (3)  3-2              SD Eibar (3)\n",
              "28          RCD Espanyol (3)  0-3            Granada CF (3)\n",
              "29         Villarreal CF (3)  2-2           Real Madrid (3)"
            ]
          },
          "metadata": {
            "tags": []
          },
          "execution_count": 338
        }
      ]
    },
    {
      "cell_type": "code",
      "metadata": {
        "id": "eOslShTAMhsy",
        "colab_type": "code",
        "outputId": "d40d40cd-0056-4b4f-b0ac-5d80dfd36d6d",
        "colab": {
          "base_uri": "https://localhost:8080/",
          "height": 109
        }
      },
      "source": [
        "dfTeams = []\n",
        "dfTeams = df[\"Team 1\"]\n",
        "dfTeams = dfTeams.append(df[\"Team 2\"])\n",
        "dfTeamsList = []\n",
        "dfTeams = pd.DataFrame(dfTeams)\n",
        "#dfTeams = pd.unique(dfTeams)\n",
        "dfTeamsList = dfTeams.values.tolist()\n",
        "for i in range(len(dfTeams)):\n",
        "  dfTeamsList[i] = str(dfTeamsList[i])[2:-6]\n",
        "t_dfTeams = pd.Series(dfTeamsList)\n",
        "t_dfTeams = pd.unique(t_dfTeams)\n",
        "print(t_dfTeams)"
      ],
      "execution_count": 339,
      "outputs": [
        {
          "output_type": "stream",
          "text": [
            "['Athletic Club Bilbao' 'RC Celta Vigo' 'Valencia CF' 'RCD Mallorca'\n",
            " 'CD Leganés' 'Villarreal CF' 'Deportivo Alavés' 'RCD Espanyol'\n",
            " 'Real Betis' 'Atlético Madrid' 'Granada CF' 'Levante UD' 'CA Osasuna'\n",
            " 'Real Madrid' 'Getafe CF' 'FC Barcelona' 'Sevilla FC' 'Real Sociedad'\n",
            " 'SD Eibar' 'Real Valladolid CF']\n"
          ],
          "name": "stdout"
        }
      ]
    },
    {
      "cell_type": "code",
      "metadata": {
        "id": "m8Tx-DKCRo5Q",
        "colab_type": "code",
        "outputId": "15524297-d90c-4b41-84b7-e5412a40aa33",
        "colab": {
          "base_uri": "https://localhost:8080/",
          "height": 384
        }
      },
      "source": [
        "teamNames = []\n",
        "for i in range(len(teams)):\n",
        "  print(i,teams[i].name)\n",
        "  teamNames.append(teams[i].name)"
      ],
      "execution_count": 340,
      "outputs": [
        {
          "output_type": "stream",
          "text": [
            "0 Real Madrid\n",
            "1 Barcelona\n",
            "2 Sevilla\n",
            "3 Getafe\n",
            "4 Atletico Madrid\n",
            "5 Real Sociedad\n",
            "6 Valencia\n",
            "7 Villarreal\n",
            "8 Granada CF\n",
            "9 Athletic Bilbao\n",
            "10 Levante\n",
            "11 CD Alaves\n",
            "12 Osasuna\n",
            "13 Real Betis\n",
            "14 Real Valladolid\n",
            "15 Eibar\n",
            "16 Celta Vigo\n",
            "17 RCD Mallorca\n",
            "18 CD Leganes\n",
            "19 Espanyol\n"
          ],
          "name": "stdout"
        }
      ]
    },
    {
      "cell_type": "code",
      "metadata": {
        "id": "INe-_thtYqqI",
        "colab_type": "code",
        "colab": {
          "base_uri": "https://localhost:8080/",
          "height": 35
        },
        "outputId": "d313cb60-c656-4825-c20d-d60ed8b273f1"
      },
      "source": [
        "train_data = []\n",
        "t_t1 = pd.DataFrame(footballTeam.getDataInTensor(teams[12],5))\n",
        "t_t2 = footballTeam.getDataInTensor(teams[8],5)\n",
        "t_t1_2 = [t_t1, t_t2]\n",
        "t_t = pd.concat(t_t1_2)\n",
        "train_data.append(t_t)\n",
        "train_data[0] = np.array(train_data[0]).astype(float)\n",
        "train_data[0] = train_data[0]/train_data[0].max()\n",
        "train_data_0 = np.zeros([len(train_data), len(train_data[0].reshape(-1,1))])\n",
        "train_data_0 = train_data[0].reshape(1,-1)\n",
        "train_data_1 = np.array(train_data_0, dtype=np.float32)\n",
        "train_data_1 = train_data_1.reshape(1, -1)\n",
        "#train_data_2T = torch.from_numpy(train_data_1).float()\n",
        "print(teams[14].name, teams[9].name)"
      ],
      "execution_count": 341,
      "outputs": [
        {
          "output_type": "stream",
          "text": [
            "Real Valladolid Athletic Bilbao\n"
          ],
          "name": "stdout"
        }
      ]
    },
    {
      "cell_type": "code",
      "metadata": {
        "id": "aNRODWLcZywS",
        "colab_type": "code",
        "colab": {
          "base_uri": "https://localhost:8080/",
          "height": 329
        },
        "outputId": "fac47a64-1dbd-4289-b213-a7aebf4290d6"
      },
      "source": [
        "train_data_0"
      ],
      "execution_count": 342,
      "outputs": [
        {
          "output_type": "execute_result",
          "data": {
            "text/plain": [
              "array([[1.        , 0.22222222, 0.77777778, 0.11111111, 0.55555556,\n",
              "        0.66666667, 0.33333333, 0.66666667, 0.11111111, 0.55555556,\n",
              "        0.22222222, 0.22222222, 0.33333333, 0.33333333, 0.55555556,\n",
              "        0.22222222, 0.33333333, 0.11111111, 0.11111111, 0.33333333,\n",
              "        0.22222222, 0.33333333, 0.11111111, 0.22222222, 0.        ,\n",
              "        0.        , 0.11111111, 0.22222222, 0.22222222, 0.22222222,\n",
              "        0.        , 0.11111111, 0.11111111, 0.11111111, 0.11111111,\n",
              "        0.11111111, 0.        , 0.11111111, 0.        , 0.11111111,\n",
              "        0.11111111, 0.        , 0.55555556, 0.22222222, 0.33333333,\n",
              "        0.22222222, 0.22222222, 0.22222222, 0.33333333, 0.55555556,\n",
              "        0.11111111, 0.44444444, 0.11111111, 0.33333333, 0.33333333,\n",
              "        0.22222222, 0.55555556, 0.33333333, 0.22222222, 0.11111111,\n",
              "        0.        , 0.22222222, 0.33333333, 0.33333333, 0.11111111,\n",
              "        0.22222222, 0.11111111, 0.22222222, 0.33333333, 0.        ,\n",
              "        0.22222222, 0.11111111, 0.11111111, 0.11111111, 0.11111111,\n",
              "        0.11111111, 0.11111111, 0.22222222, 0.        , 0.22222222,\n",
              "        0.        , 0.22222222, 0.11111111, 0.11111111]])"
            ]
          },
          "metadata": {
            "tags": []
          },
          "execution_count": 342
        }
      ]
    },
    {
      "cell_type": "code",
      "metadata": {
        "id": "JfOeLFwYT5vt",
        "colab_type": "code",
        "colab": {}
      },
      "source": [
        "teamNames2 = []\n",
        "for i in range(len(t_dfTeams)):\n",
        "  teamNames2.append(t_dfTeams[i])\n",
        "  #print(i, t_dfTeams[i])"
      ],
      "execution_count": 0,
      "outputs": []
    },
    {
      "cell_type": "code",
      "metadata": {
        "id": "0F8XzbIOUHy2",
        "colab_type": "code",
        "outputId": "6f89a9f0-fb11-4e4b-f6d1-6b15b33a1521",
        "colab": {
          "base_uri": "https://localhost:8080/",
          "height": 35
        }
      },
      "source": [
        "teams[0].name = t_dfTeams[13]\n",
        "teams[1].name = t_dfTeams[15]\n",
        "teams[2].name = t_dfTeams[16]\n",
        "teams[3].name = t_dfTeams[14]\n",
        "teams[4].name = t_dfTeams[9]\n",
        "teams[5].name = t_dfTeams[17]\n",
        "teams[6].name = t_dfTeams[2]\n",
        "teams[7].name = t_dfTeams[5]\n",
        "teams[9].name = t_dfTeams[11]\n",
        "teams[10].name = t_dfTeams[0]\n",
        "teams[11].name = t_dfTeams[12]\n",
        "teams[12].name = t_dfTeams[8]\n",
        "teams[13].name = t_dfTeams[6]\n",
        "teams[14].name = t_dfTeams[19]\n",
        "teams[15].name = t_dfTeams[18]\n",
        "teams[16].name = t_dfTeams[1]\n",
        "teams[17].name = t_dfTeams[3]\n",
        "teams[18].name = t_dfTeams[4]\n",
        "teams[19].name = t_dfTeams[7]\n",
        "'''\n",
        "for i in range(len(teams)):\n",
        "  print(i, teams[i].name)\n",
        "'''"
      ],
      "execution_count": 344,
      "outputs": [
        {
          "output_type": "execute_result",
          "data": {
            "text/plain": [
              "'\\nfor i in range(len(teams)):\\n  print(i, teams[i].name)\\n'"
            ]
          },
          "metadata": {
            "tags": []
          },
          "execution_count": 344
        }
      ]
    },
    {
      "cell_type": "code",
      "metadata": {
        "id": "TEQ9mva3TEqx",
        "colab_type": "code",
        "colab": {}
      },
      "source": [
        "x1 = []\n",
        "dflist1 = []\n",
        "dflist2 = []\n",
        "dfResults = []\n",
        "dfResults = df[\"FT\"].values.tolist()\n",
        "dflist1 = df[\"Team 1\"].values.tolist()\n",
        "dflist2 = df[\"Team 2\"].values.tolist()\n",
        "for i in range(len(dflist1)):\n",
        "  dflist1[i] = str(dflist1[i])[:-4]\n",
        "  dflist2[i] = str(dflist2[i])[:-4]\n",
        "for i in range(len(dfResults)):\n",
        "  dfResults[i] = dfResults[i].split(\"-\") \n",
        "for i in range(len(dflist1)):\n",
        "  t_x1 = pd.DataFrame(footballTeam.getDataInTensor(teams[getIndexByNameOfTeam(dflist1[i])],5))\n",
        "  t_x2 = footballTeam.getDataInTensor(teams[getIndexByNameOfTeam(dflist2[i])],5)\n",
        "  t_x1_2 = [t_x1, t_x2]\n",
        "  t_x = pd.concat(t_x1_2)\n",
        "  x1.append(t_x)\n",
        "  #teams[getIndexByNameOfTeam(dflist1[i])]"
      ],
      "execution_count": 0,
      "outputs": []
    },
    {
      "cell_type": "code",
      "metadata": {
        "id": "zRyh2LSVjHSZ",
        "colab_type": "code",
        "colab": {}
      },
      "source": [
        "for i in range(len(x1)):\n",
        "  npx0 = np.array(x1[i])\n",
        "  x1[i] = npx0.astype(int)\n",
        "x1 = np.array(x1)\n",
        "x1 = x1/x1.max()\n",
        "dfResults = np.array(dfResults).astype(float)\n",
        "x1 = np.array(x1).astype(float)"
      ],
      "execution_count": 0,
      "outputs": []
    },
    {
      "cell_type": "code",
      "metadata": {
        "id": "t0XQcUaTImsB",
        "colab_type": "code",
        "colab": {}
      },
      "source": [
        "x2 = np.zeros([len(x1), len(x1[0].reshape(-1,1))])\n",
        "for i in range(len(x1)):\n",
        "  x2[i] = x1[i].reshape(1,-1)\n",
        "  #x1[i][1] = x1[i][1].reshape(-1,1)"
      ],
      "execution_count": 0,
      "outputs": []
    },
    {
      "cell_type": "code",
      "metadata": {
        "id": "DevnEiKFgufe",
        "colab_type": "code",
        "colab": {}
      },
      "source": [
        "import numpy as np# create dummy data for training\n",
        "x_values = x2\n",
        "x_train = np.array(x_values, dtype=np.float32)\n",
        "x_train = x_train.reshape(-1, 1)\n",
        "\n",
        "y_values = dfResults\n",
        "y_train = np.array(y_values, dtype=np.float32)\n",
        "y_train = y_train.reshape(-1, 1)"
      ],
      "execution_count": 0,
      "outputs": []
    },
    {
      "cell_type": "code",
      "metadata": {
        "id": "eELR4d8AIk1j",
        "colab_type": "code",
        "colab": {}
      },
      "source": [
        "import torch\n",
        "from torch.autograd import Variable\n",
        "class linearRegression(torch.nn.Module):\n",
        "    def __init__(self, inputSize, outputSize):\n",
        "        super(linearRegression, self).__init__()\n",
        "        self.linear = torch.nn.Linear(inputSize, outputSize)\n",
        "        self.linear = torch.nn.Linear(inputSize, outputSize)\n",
        "        self.linear = torch.nn.Linear(inputSize, outputSize)\n",
        "        self.linear = torch.nn.Linear(inputSize, outputSize)\n",
        "        self.linear = torch.nn.Linear(inputSize, outputSize)\n",
        "\n",
        "    def forward(self, x):\n",
        "        out = self.linear(x)\n",
        "        return out"
      ],
      "execution_count": 0,
      "outputs": []
    },
    {
      "cell_type": "code",
      "metadata": {
        "id": "TktJ3PnsPrZ_",
        "colab_type": "code",
        "colab": {
          "base_uri": "https://localhost:8080/",
          "height": 35
        },
        "outputId": "1351aac2-3d9d-497c-a787-00fdd5a3f886"
      },
      "source": [
        "type(dfResults[0][0])"
      ],
      "execution_count": 350,
      "outputs": [
        {
          "output_type": "execute_result",
          "data": {
            "text/plain": [
              "numpy.float64"
            ]
          },
          "metadata": {
            "tags": []
          },
          "execution_count": 350
        }
      ]
    },
    {
      "cell_type": "code",
      "metadata": {
        "id": "BucnH3sdJDTm",
        "colab_type": "code",
        "colab": {}
      },
      "source": [
        "inputDim = 84        # takes variable 'x' \n",
        "outputDim = 2       # takes variable 'y'\n",
        "learningRate = 0.2 \n",
        "epochs = 100\n",
        "\n",
        "model = linearRegression(inputDim, outputDim)\n",
        "##### For GPU #######\n",
        "if torch.cuda.is_available():\n",
        "    model.cuda()"
      ],
      "execution_count": 0,
      "outputs": []
    },
    {
      "cell_type": "code",
      "metadata": {
        "id": "wdoKHnUIJGH0",
        "colab_type": "code",
        "colab": {}
      },
      "source": [
        "criterion = torch.nn.MSELoss() \n",
        "optimizer = torch.optim.SGD(model.parameters(), lr=learningRate)"
      ],
      "execution_count": 0,
      "outputs": []
    },
    {
      "cell_type": "code",
      "metadata": {
        "id": "YCVhNKcXLuHG",
        "colab_type": "code",
        "colab": {
          "base_uri": "https://localhost:8080/",
          "height": 1000
        },
        "outputId": "d9505930-705f-4297-f0b7-bbd47d4a6731"
      },
      "source": [
        "#source: https://towardsdatascience.com/linear-regression-with-pytorch-eb6dedead817\n",
        "for epoch in range(epochs):\n",
        "    if torch.cuda.is_available():\n",
        "        inputs = Variable(torch.from_numpy(x_train).cuda())\n",
        "        labels = Variable(torch.from_numpy(y_train).cuda())\n",
        "    else:\n",
        "        inputs = Variable(torch.from_numpy(x2).float())\n",
        "        labels = Variable(torch.from_numpy(dfResults).float())\n",
        "    optimizer.zero_grad()\n",
        "    outputs = model(inputs)\n",
        "    loss = criterion(outputs, labels)\n",
        "    print(loss)\n",
        "    loss.backward()\n",
        "    optimizer.step()\n",
        "    print('epoch {}, loss {}'.format(epoch, loss.item()))"
      ],
      "execution_count": 353,
      "outputs": [
        {
          "output_type": "stream",
          "text": [
            "tensor(2.7454, grad_fn=<MseLossBackward>)\n",
            "epoch 0, loss 2.7453763484954834\n",
            "tensor(1.3910, grad_fn=<MseLossBackward>)\n",
            "epoch 1, loss 1.3910315036773682\n",
            "tensor(1.2011, grad_fn=<MseLossBackward>)\n",
            "epoch 2, loss 1.2010719776153564\n",
            "tensor(1.1672, grad_fn=<MseLossBackward>)\n",
            "epoch 3, loss 1.1671515703201294\n",
            "tensor(1.1543, grad_fn=<MseLossBackward>)\n",
            "epoch 4, loss 1.1543464660644531\n",
            "tensor(1.1446, grad_fn=<MseLossBackward>)\n",
            "epoch 5, loss 1.1445956230163574\n",
            "tensor(1.1355, grad_fn=<MseLossBackward>)\n",
            "epoch 6, loss 1.1354728937149048\n",
            "tensor(1.1266, grad_fn=<MseLossBackward>)\n",
            "epoch 7, loss 1.126645565032959\n",
            "tensor(1.1181, grad_fn=<MseLossBackward>)\n",
            "epoch 8, loss 1.1180616617202759\n",
            "tensor(1.1097, grad_fn=<MseLossBackward>)\n",
            "epoch 9, loss 1.109706997871399\n",
            "tensor(1.1016, grad_fn=<MseLossBackward>)\n",
            "epoch 10, loss 1.1015714406967163\n",
            "tensor(1.0936, grad_fn=<MseLossBackward>)\n",
            "epoch 11, loss 1.0936474800109863\n",
            "tensor(1.0859, grad_fn=<MseLossBackward>)\n",
            "epoch 12, loss 1.0859267711639404\n",
            "tensor(1.0784, grad_fn=<MseLossBackward>)\n",
            "epoch 13, loss 1.0784027576446533\n",
            "tensor(1.0711, grad_fn=<MseLossBackward>)\n",
            "epoch 14, loss 1.0710675716400146\n",
            "tensor(1.0639, grad_fn=<MseLossBackward>)\n",
            "epoch 15, loss 1.0639142990112305\n",
            "tensor(1.0569, grad_fn=<MseLossBackward>)\n",
            "epoch 16, loss 1.0569368600845337\n",
            "tensor(1.0501, grad_fn=<MseLossBackward>)\n",
            "epoch 17, loss 1.050128698348999\n",
            "tensor(1.0435, grad_fn=<MseLossBackward>)\n",
            "epoch 18, loss 1.0434839725494385\n",
            "tensor(1.0370, grad_fn=<MseLossBackward>)\n",
            "epoch 19, loss 1.0369969606399536\n",
            "tensor(1.0307, grad_fn=<MseLossBackward>)\n",
            "epoch 20, loss 1.0306612253189087\n",
            "tensor(1.0245, grad_fn=<MseLossBackward>)\n",
            "epoch 21, loss 1.0244724750518799\n",
            "tensor(1.0184, grad_fn=<MseLossBackward>)\n",
            "epoch 22, loss 1.0184253454208374\n",
            "tensor(1.0125, grad_fn=<MseLossBackward>)\n",
            "epoch 23, loss 1.012514591217041\n",
            "tensor(1.0067, grad_fn=<MseLossBackward>)\n",
            "epoch 24, loss 1.0067356824874878\n",
            "tensor(1.0011, grad_fn=<MseLossBackward>)\n",
            "epoch 25, loss 1.0010838508605957\n",
            "tensor(0.9956, grad_fn=<MseLossBackward>)\n",
            "epoch 26, loss 0.99555504322052\n",
            "tensor(0.9901, grad_fn=<MseLossBackward>)\n",
            "epoch 27, loss 0.9901450276374817\n",
            "tensor(0.9848, grad_fn=<MseLossBackward>)\n",
            "epoch 28, loss 0.984849750995636\n",
            "tensor(0.9797, grad_fn=<MseLossBackward>)\n",
            "epoch 29, loss 0.9796651601791382\n",
            "tensor(0.9746, grad_fn=<MseLossBackward>)\n",
            "epoch 30, loss 0.9745877385139465\n",
            "tensor(0.9696, grad_fn=<MseLossBackward>)\n",
            "epoch 31, loss 0.9696143269538879\n",
            "tensor(0.9647, grad_fn=<MseLossBackward>)\n",
            "epoch 32, loss 0.9647409319877625\n",
            "tensor(0.9600, grad_fn=<MseLossBackward>)\n",
            "epoch 33, loss 0.9599640369415283\n",
            "tensor(0.9553, grad_fn=<MseLossBackward>)\n",
            "epoch 34, loss 0.9552810788154602\n",
            "tensor(0.9507, grad_fn=<MseLossBackward>)\n",
            "epoch 35, loss 0.9506887197494507\n",
            "tensor(0.9462, grad_fn=<MseLossBackward>)\n",
            "epoch 36, loss 0.9461842179298401\n",
            "tensor(0.9418, grad_fn=<MseLossBackward>)\n",
            "epoch 37, loss 0.9417646527290344\n",
            "tensor(0.9374, grad_fn=<MseLossBackward>)\n",
            "epoch 38, loss 0.9374272227287292\n",
            "tensor(0.9332, grad_fn=<MseLossBackward>)\n",
            "epoch 39, loss 0.933169424533844\n",
            "tensor(0.9290, grad_fn=<MseLossBackward>)\n",
            "epoch 40, loss 0.9289888739585876\n",
            "tensor(0.9249, grad_fn=<MseLossBackward>)\n",
            "epoch 41, loss 0.9248827695846558\n",
            "tensor(0.9208, grad_fn=<MseLossBackward>)\n",
            "epoch 42, loss 0.9208493828773499\n",
            "tensor(0.9169, grad_fn=<MseLossBackward>)\n",
            "epoch 43, loss 0.9168860912322998\n",
            "tensor(0.9130, grad_fn=<MseLossBackward>)\n",
            "epoch 44, loss 0.9129906892776489\n",
            "tensor(0.9092, grad_fn=<MseLossBackward>)\n",
            "epoch 45, loss 0.9091618061065674\n",
            "tensor(0.9054, grad_fn=<MseLossBackward>)\n",
            "epoch 46, loss 0.9053964018821716\n",
            "tensor(0.9017, grad_fn=<MseLossBackward>)\n",
            "epoch 47, loss 0.9016932249069214\n",
            "tensor(0.8981, grad_fn=<MseLossBackward>)\n",
            "epoch 48, loss 0.8980503082275391\n",
            "tensor(0.8945, grad_fn=<MseLossBackward>)\n",
            "epoch 49, loss 0.8944658041000366\n",
            "tensor(0.8909, grad_fn=<MseLossBackward>)\n",
            "epoch 50, loss 0.8909381031990051\n",
            "tensor(0.8875, grad_fn=<MseLossBackward>)\n",
            "epoch 51, loss 0.8874657154083252\n",
            "tensor(0.8840, grad_fn=<MseLossBackward>)\n",
            "epoch 52, loss 0.8840468525886536\n",
            "tensor(0.8807, grad_fn=<MseLossBackward>)\n",
            "epoch 53, loss 0.8806797862052917\n",
            "tensor(0.8774, grad_fn=<MseLossBackward>)\n",
            "epoch 54, loss 0.8773635625839233\n",
            "tensor(0.8741, grad_fn=<MseLossBackward>)\n",
            "epoch 55, loss 0.8740964531898499\n",
            "tensor(0.8709, grad_fn=<MseLossBackward>)\n",
            "epoch 56, loss 0.8708769679069519\n",
            "tensor(0.8677, grad_fn=<MseLossBackward>)\n",
            "epoch 57, loss 0.8677037358283997\n",
            "tensor(0.8646, grad_fn=<MseLossBackward>)\n",
            "epoch 58, loss 0.8645761609077454\n",
            "tensor(0.8615, grad_fn=<MseLossBackward>)\n",
            "epoch 59, loss 0.8614921569824219\n",
            "tensor(0.8585, grad_fn=<MseLossBackward>)\n",
            "epoch 60, loss 0.8584511280059814\n",
            "tensor(0.8555, grad_fn=<MseLossBackward>)\n",
            "epoch 61, loss 0.8554516434669495\n",
            "tensor(0.8525, grad_fn=<MseLossBackward>)\n",
            "epoch 62, loss 0.8524927496910095\n",
            "tensor(0.8496, grad_fn=<MseLossBackward>)\n",
            "epoch 63, loss 0.8495732545852661\n",
            "tensor(0.8467, grad_fn=<MseLossBackward>)\n",
            "epoch 64, loss 0.8466923832893372\n",
            "tensor(0.8438, grad_fn=<MseLossBackward>)\n",
            "epoch 65, loss 0.8438490033149719\n",
            "tensor(0.8410, grad_fn=<MseLossBackward>)\n",
            "epoch 66, loss 0.8410419821739197\n",
            "tensor(0.8383, grad_fn=<MseLossBackward>)\n",
            "epoch 67, loss 0.8382704854011536\n",
            "tensor(0.8355, grad_fn=<MseLossBackward>)\n",
            "epoch 68, loss 0.8355339765548706\n",
            "tensor(0.8328, grad_fn=<MseLossBackward>)\n",
            "epoch 69, loss 0.8328309655189514\n",
            "tensor(0.8302, grad_fn=<MseLossBackward>)\n",
            "epoch 70, loss 0.8301613926887512\n",
            "tensor(0.8275, grad_fn=<MseLossBackward>)\n",
            "epoch 71, loss 0.8275235295295715\n",
            "tensor(0.8249, grad_fn=<MseLossBackward>)\n",
            "epoch 72, loss 0.824917197227478\n",
            "tensor(0.8223, grad_fn=<MseLossBackward>)\n",
            "epoch 73, loss 0.8223417401313782\n",
            "tensor(0.8198, grad_fn=<MseLossBackward>)\n",
            "epoch 74, loss 0.8197962045669556\n",
            "tensor(0.8173, grad_fn=<MseLossBackward>)\n",
            "epoch 75, loss 0.8172797560691833\n",
            "tensor(0.8148, grad_fn=<MseLossBackward>)\n",
            "epoch 76, loss 0.8147920966148376\n",
            "tensor(0.8123, grad_fn=<MseLossBackward>)\n",
            "epoch 77, loss 0.812332272529602\n",
            "tensor(0.8099, grad_fn=<MseLossBackward>)\n",
            "epoch 78, loss 0.8098993301391602\n",
            "tensor(0.8075, grad_fn=<MseLossBackward>)\n",
            "epoch 79, loss 0.8074935674667358\n",
            "tensor(0.8051, grad_fn=<MseLossBackward>)\n",
            "epoch 80, loss 0.8051135540008545\n",
            "tensor(0.8028, grad_fn=<MseLossBackward>)\n",
            "epoch 81, loss 0.8027592897415161\n",
            "tensor(0.8004, grad_fn=<MseLossBackward>)\n",
            "epoch 82, loss 0.8004297018051147\n",
            "tensor(0.7981, grad_fn=<MseLossBackward>)\n",
            "epoch 83, loss 0.7981246113777161\n",
            "tensor(0.7958, grad_fn=<MseLossBackward>)\n",
            "epoch 84, loss 0.7958433628082275\n",
            "tensor(0.7936, grad_fn=<MseLossBackward>)\n",
            "epoch 85, loss 0.7935855984687805\n",
            "tensor(0.7914, grad_fn=<MseLossBackward>)\n",
            "epoch 86, loss 0.7913503646850586\n",
            "tensor(0.7891, grad_fn=<MseLossBackward>)\n",
            "epoch 87, loss 0.7891377210617065\n",
            "tensor(0.7869, grad_fn=<MseLossBackward>)\n",
            "epoch 88, loss 0.7869471311569214\n",
            "tensor(0.7848, grad_fn=<MseLossBackward>)\n",
            "epoch 89, loss 0.7847779393196106\n",
            "tensor(0.7826, grad_fn=<MseLossBackward>)\n",
            "epoch 90, loss 0.7826298475265503\n",
            "tensor(0.7805, grad_fn=<MseLossBackward>)\n",
            "epoch 91, loss 0.7805020809173584\n",
            "tensor(0.7784, grad_fn=<MseLossBackward>)\n",
            "epoch 92, loss 0.7783947587013245\n",
            "tensor(0.7763, grad_fn=<MseLossBackward>)\n",
            "epoch 93, loss 0.7763071656227112\n",
            "tensor(0.7742, grad_fn=<MseLossBackward>)\n",
            "epoch 94, loss 0.7742390036582947\n",
            "tensor(0.7722, grad_fn=<MseLossBackward>)\n",
            "epoch 95, loss 0.7721898555755615\n",
            "tensor(0.7702, grad_fn=<MseLossBackward>)\n",
            "epoch 96, loss 0.7701593041419983\n",
            "tensor(0.7681, grad_fn=<MseLossBackward>)\n",
            "epoch 97, loss 0.7681472897529602\n",
            "tensor(0.7662, grad_fn=<MseLossBackward>)\n",
            "epoch 98, loss 0.7661530375480652\n",
            "tensor(0.7642, grad_fn=<MseLossBackward>)\n",
            "epoch 99, loss 0.7641765475273132\n"
          ],
          "name": "stdout"
        }
      ]
    },
    {
      "cell_type": "code",
      "metadata": {
        "id": "fa9NGs7Ke_LM",
        "colab_type": "code",
        "colab": {
          "base_uri": "https://localhost:8080/",
          "height": 54
        },
        "outputId": "7ef3e2ad-a438-4bb8-ee0f-338273a4aca9"
      },
      "source": [
        "t_x = np.array(x2[0])\n",
        "print(len(t_x))\n",
        "print(len(train_data_1))"
      ],
      "execution_count": 354,
      "outputs": [
        {
          "output_type": "stream",
          "text": [
            "84\n",
            "1\n"
          ],
          "name": "stdout"
        }
      ]
    },
    {
      "cell_type": "code",
      "metadata": {
        "id": "QyqtirPkMBbT",
        "colab_type": "code",
        "colab": {
          "base_uri": "https://localhost:8080/",
          "height": 35
        },
        "outputId": "3eaf8d81-386b-4c02-fadc-e366b194b98e"
      },
      "source": [
        "with torch.no_grad(): # we don't need gradients in the testing phase\n",
        "        predicted = model(Variable(torch.from_numpy(train_data_1))).data.numpy()\n",
        "print(predicted)"
      ],
      "execution_count": 355,
      "outputs": [
        {
          "output_type": "stream",
          "text": [
            "[[3.4164476 2.2029843]]\n"
          ],
          "name": "stdout"
        }
      ]
    }
  ]
}